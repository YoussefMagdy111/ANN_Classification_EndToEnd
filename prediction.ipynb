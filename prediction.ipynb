{
 "cells": [
  {
   "cell_type": "code",
   "execution_count": 6,
   "id": "951390b2",
   "metadata": {},
   "outputs": [
    {
     "name": "stderr",
     "output_type": "stream",
     "text": [
      "WARNING:absl:Compiled the loaded model, but the compiled metrics have yet to be built. `model.compile_metrics` will be empty until you train or evaluate the model.\n"
     ]
    }
   ],
   "source": [
    "import numpy as np\n",
    "import joblib\n",
    "from keras.models import load_model\n",
    "\n",
    "# Load trained model and scaler\n",
    "model = load_model(\"model.h5\")\n",
    "scaler = joblib.load(\"scaler.pkl\")\n",
    "\n",
    "# Manual encodings used during training\n",
    "gender_map = {\"Female\": 0, \"Male\": 1}\n",
    "geo_map = {\"France\": 0, \"Germany\": 1, \"Spain\": 2}"
   ]
  },
  {
   "cell_type": "code",
   "execution_count": 9,
   "id": "af13a463",
   "metadata": {},
   "outputs": [],
   "source": [
    "def predict(features_dict):\n",
    "  \n",
    "\n",
    "    # Encode categorical features\n",
    "    geo_encoded = geo_map[features_dict[\"Geography\"]]\n",
    "    gender_encoded = gender_map[features_dict[\"Gender\"]]\n",
    "\n",
    "    # Extract and scale numeric features (order must match training)\n",
    "    numeric_values = np.array([[\n",
    "        features_dict[\"CreditScore\"],\n",
    "        features_dict[\"Age\"],\n",
    "        features_dict[\"Tenure\"],\n",
    "        features_dict[\"Balance\"],\n",
    "        features_dict[\"NumOfProducts\"],\n",
    "        features_dict[\"EstimatedSalary\"]\n",
    "    ]])\n",
    "\n",
    "    numeric_scaled = scaler.transform(numeric_values)[0]\n",
    "\n",
    "    # Combine all features in correct order\n",
    "    input_vector = np.array([\n",
    "        *numeric_scaled,               # 6 scaled numeric features\n",
    "        geo_encoded,                   # 7: Geography (encoded)\n",
    "        gender_encoded,                # 8: Gender (encoded)\n",
    "        features_dict[\"HasCrCard\"],    # 9\n",
    "        features_dict[\"IsActiveMember\"]# 10\n",
    "    ])\n",
    "\n",
    "    # Predict\n",
    "    probability = model.predict(np.expand_dims(input_vector, axis=0))[0][0]\n",
    "\n",
    "    label = \"Positive\" if probability > 0.5 else \"Negative\"\n",
    "\n",
    "    return label, float(probability)"
   ]
  },
  {
   "cell_type": "code",
   "execution_count": 27,
   "id": "6d87fb45",
   "metadata": {},
   "outputs": [
    {
     "name": "stdout",
     "output_type": "stream",
     "text": [
      "\u001b[1m1/1\u001b[0m \u001b[32m━━━━━━━━━━━━━━━━━━━━\u001b[0m\u001b[37m\u001b[0m \u001b[1m0s\u001b[0m 69ms/step\n",
      "Prediction: Negative, Probability: 0.4429\n"
     ]
    },
    {
     "name": "stderr",
     "output_type": "stream",
     "text": [
      "c:\\Users\\m\\anaconda3\\envs\\tf\\lib\\site-packages\\sklearn\\utils\\validation.py:2739: UserWarning: X does not have valid feature names, but StandardScaler was fitted with feature names\n",
      "  warnings.warn(\n"
     ]
    }
   ],
   "source": [
    "if __name__ == \"__main__\":\n",
    "    # Example input\n",
    "    features = {\n",
    "        \"CreditScore\": 1000,\n",
    "        \"Age\": 40,\n",
    "        \"Tenure\": 3,\n",
    "        \"Balance\": 60000.0,\n",
    "        \"NumOfProducts\": 4,\n",
    "        \"EstimatedSalary\": 50000.0,\n",
    "        \"Geography\": \"France\",\n",
    "        \"Gender\": \"Male\",\n",
    "        \"HasCrCard\": 1,\n",
    "        \"IsActiveMember\": 1\n",
    "    }\n",
    "\n",
    "    result, prob = predict(features)\n",
    "    print(f\"Prediction: {result}, Probability: {prob:.4f}\")"
   ]
  },
  {
   "cell_type": "code",
   "execution_count": null,
   "id": "712934da",
   "metadata": {},
   "outputs": [],
   "source": []
  }
 ],
 "metadata": {
  "kernelspec": {
   "display_name": "tf",
   "language": "python",
   "name": "python3"
  },
  "language_info": {
   "codemirror_mode": {
    "name": "ipython",
    "version": 3
   },
   "file_extension": ".py",
   "mimetype": "text/x-python",
   "name": "python",
   "nbconvert_exporter": "python",
   "pygments_lexer": "ipython3",
   "version": "3.10.18"
  }
 },
 "nbformat": 4,
 "nbformat_minor": 5
}
